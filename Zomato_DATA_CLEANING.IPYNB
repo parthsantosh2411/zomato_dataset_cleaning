{
 "cells": [
  {
   "cell_type": "code",
   "execution_count": 36,
   "metadata": {},
   "outputs": [],
   "source": [
    "import pandas as pd\n",
    "from sklearn.impute import KNNImputer\n",
    "from sklearn.preprocessing import MinMaxScaler\n",
    "from sklearn.preprocessing import StandardScaler\n",
    "from sklearn.neighbors import KNeighborsClassifier\n",
    "from sklearn.preprocessing import LabelEncoder"
   ]
  },
  {
   "cell_type": "code",
   "execution_count": 37,
   "metadata": {},
   "outputs": [],
   "source": [
    "csv_file_path = r\"C:\\Users\\Parth Tripathi\\Downloads\\zomato_dataset (1).csv\"  \n",
    "new = pd.read_csv(csv_file_path)\n",
    "new.replace('?', 'NaN', inplace=True)\n",
    "new.to_csv('zomato_dataset_updated.csv', index=False)"
   ]
  },
  {
   "cell_type": "code",
   "execution_count": 38,
   "metadata": {},
   "outputs": [],
   "source": [
    "zomato_data = pd.read_csv(r'C:\\Users\\Parth Tripathi\\Desktop\\codes\\DPL LAB\\zomato_dataset_updated.csv')"
   ]
  },
  {
   "cell_type": "code",
   "execution_count": 39,
   "metadata": {},
   "outputs": [],
   "source": [
    "df = pd.DataFrame(zomato_data)"
   ]
  },
  {
   "cell_type": "code",
   "execution_count": 40,
   "metadata": {},
   "outputs": [
    {
     "data": {
      "text/html": [
       "<div>\n",
       "<style scoped>\n",
       "    .dataframe tbody tr th:only-of-type {\n",
       "        vertical-align: middle;\n",
       "    }\n",
       "\n",
       "    .dataframe tbody tr th {\n",
       "        vertical-align: top;\n",
       "    }\n",
       "\n",
       "    .dataframe thead th {\n",
       "        text-align: right;\n",
       "    }\n",
       "</style>\n",
       "<table border=\"1\" class=\"dataframe\">\n",
       "  <thead>\n",
       "    <tr style=\"text-align: right;\">\n",
       "      <th></th>\n",
       "      <th>Restaurant ID</th>\n",
       "      <th>Restaurant Name</th>\n",
       "      <th>Country Code</th>\n",
       "      <th>City</th>\n",
       "      <th>Address</th>\n",
       "      <th>Locality</th>\n",
       "      <th>Locality Verbose</th>\n",
       "      <th>Longitude</th>\n",
       "      <th>Latitude</th>\n",
       "      <th>Cuisines</th>\n",
       "      <th>Average Cost for two</th>\n",
       "      <th>Currency</th>\n",
       "      <th>Price range</th>\n",
       "      <th>Aggregate rating</th>\n",
       "      <th>Rating color</th>\n",
       "      <th>Rating text</th>\n",
       "      <th>Votes</th>\n",
       "    </tr>\n",
       "  </thead>\n",
       "  <tbody>\n",
       "    <tr>\n",
       "      <th>0</th>\n",
       "      <td>6317637</td>\n",
       "      <td>Le Petit Souffle</td>\n",
       "      <td>162.0</td>\n",
       "      <td>Makati City</td>\n",
       "      <td>Third Floor; Century City Mall; Kalayaan Avenu...</td>\n",
       "      <td>Century City Mall; Poblacion; Makati City</td>\n",
       "      <td>Century City Mall; Poblacion; Makati City; Mak...</td>\n",
       "      <td>121.027535</td>\n",
       "      <td>14.565443</td>\n",
       "      <td>French; Japanese; Desserts</td>\n",
       "      <td>1100.0</td>\n",
       "      <td>Botswana Pula(P)</td>\n",
       "      <td>3.0</td>\n",
       "      <td>4.8</td>\n",
       "      <td>Dark Green</td>\n",
       "      <td>Excellent</td>\n",
       "      <td>314.0</td>\n",
       "    </tr>\n",
       "    <tr>\n",
       "      <th>1</th>\n",
       "      <td>6304287</td>\n",
       "      <td>Izakaya Kikufuji</td>\n",
       "      <td>162.0</td>\n",
       "      <td>Makati City</td>\n",
       "      <td>Little Tokyo; 2277 Chino Roces Avenue; Legaspi...</td>\n",
       "      <td>Little Tokyo; Legaspi Village; Makati City</td>\n",
       "      <td>Little Tokyo; Legaspi Village; Makati City; Ma...</td>\n",
       "      <td>121.014101</td>\n",
       "      <td>14.553708</td>\n",
       "      <td>Japanese</td>\n",
       "      <td>1200.0</td>\n",
       "      <td>Botswana Pula(P)</td>\n",
       "      <td>3.0</td>\n",
       "      <td>4.5</td>\n",
       "      <td>Dark Green</td>\n",
       "      <td>Excellent</td>\n",
       "      <td>591.0</td>\n",
       "    </tr>\n",
       "    <tr>\n",
       "      <th>2</th>\n",
       "      <td>6300002</td>\n",
       "      <td>NaN</td>\n",
       "      <td>162.0</td>\n",
       "      <td>NaN</td>\n",
       "      <td>Edsa Shangri-La; 1 Garden Way; Ortigas; Mandal...</td>\n",
       "      <td>Edsa Shangri-La; Ortigas; Mandaluyong City</td>\n",
       "      <td>NaN</td>\n",
       "      <td>NaN</td>\n",
       "      <td>14.581404</td>\n",
       "      <td>NaN</td>\n",
       "      <td>NaN</td>\n",
       "      <td>NaN</td>\n",
       "      <td>NaN</td>\n",
       "      <td>4.4</td>\n",
       "      <td>NaN</td>\n",
       "      <td>NaN</td>\n",
       "      <td>270.0</td>\n",
       "    </tr>\n",
       "  </tbody>\n",
       "</table>\n",
       "</div>"
      ],
      "text/plain": [
       "   Restaurant ID   Restaurant Name  Country Code         City  \\\n",
       "0        6317637  Le Petit Souffle         162.0  Makati City   \n",
       "1        6304287  Izakaya Kikufuji         162.0  Makati City   \n",
       "2        6300002               NaN         162.0          NaN   \n",
       "\n",
       "                                             Address  \\\n",
       "0  Third Floor; Century City Mall; Kalayaan Avenu...   \n",
       "1  Little Tokyo; 2277 Chino Roces Avenue; Legaspi...   \n",
       "2  Edsa Shangri-La; 1 Garden Way; Ortigas; Mandal...   \n",
       "\n",
       "                                     Locality  \\\n",
       "0   Century City Mall; Poblacion; Makati City   \n",
       "1  Little Tokyo; Legaspi Village; Makati City   \n",
       "2  Edsa Shangri-La; Ortigas; Mandaluyong City   \n",
       "\n",
       "                                    Locality Verbose   Longitude   Latitude  \\\n",
       "0  Century City Mall; Poblacion; Makati City; Mak...  121.027535  14.565443   \n",
       "1  Little Tokyo; Legaspi Village; Makati City; Ma...  121.014101  14.553708   \n",
       "2                                                NaN         NaN  14.581404   \n",
       "\n",
       "                     Cuisines  Average Cost for two          Currency  \\\n",
       "0  French; Japanese; Desserts                1100.0  Botswana Pula(P)   \n",
       "1                    Japanese                1200.0  Botswana Pula(P)   \n",
       "2                         NaN                   NaN               NaN   \n",
       "\n",
       "   Price range  Aggregate rating Rating color Rating text  Votes  \n",
       "0          3.0               4.8   Dark Green   Excellent  314.0  \n",
       "1          3.0               4.5   Dark Green   Excellent  591.0  \n",
       "2          NaN               4.4          NaN         NaN  270.0  "
      ]
     },
     "execution_count": 40,
     "metadata": {},
     "output_type": "execute_result"
    }
   ],
   "source": [
    "zomato_data.head(3)"
   ]
  },
  {
   "cell_type": "code",
   "execution_count": 41,
   "metadata": {},
   "outputs": [
    {
     "data": {
      "text/plain": [
       "(9551, 17)"
      ]
     },
     "execution_count": 41,
     "metadata": {},
     "output_type": "execute_result"
    }
   ],
   "source": [
    "zomato_data.shape"
   ]
  },
  {
   "cell_type": "code",
   "execution_count": 42,
   "metadata": {},
   "outputs": [
    {
     "data": {
      "text/plain": [
       "Restaurant ID              0\n",
       "Restaurant Name         4985\n",
       "Country Code            4972\n",
       "City                    4840\n",
       "Address                 4855\n",
       "Locality                4828\n",
       "Locality Verbose        4974\n",
       "Longitude               4911\n",
       "Latitude                4855\n",
       "Cuisines                4932\n",
       "Average Cost for two    4893\n",
       "Currency                4894\n",
       "Price range             4931\n",
       "Aggregate rating        4861\n",
       "Rating color            4935\n",
       "Rating text             4965\n",
       "Votes                   4918\n",
       "dtype: int64"
      ]
     },
     "execution_count": 42,
     "metadata": {},
     "output_type": "execute_result"
    }
   ],
   "source": [
    "zomato_data.isnull().sum()"
   ]
  },
  {
   "cell_type": "code",
   "execution_count": 43,
   "metadata": {},
   "outputs": [
    {
     "data": {
      "text/plain": [
       "93.71376076737694"
      ]
     },
     "execution_count": 43,
     "metadata": {},
     "output_type": "execute_result"
    }
   ],
   "source": [
    "total_missing_values = zomato_data.isnull().sum().sum()\n",
    "percent_missing_values = total_missing_values / zomato_data.count().sum() * 100\n",
    "percent_missing_values"
   ]
  },
  {
   "cell_type": "code",
   "execution_count": 44,
   "metadata": {},
   "outputs": [
    {
     "data": {
      "text/plain": [
       "Index(['Restaurant ID', 'Restaurant Name', 'Country Code', 'City', 'Address',\n",
       "       'Locality', 'Locality Verbose', 'Longitude', 'Latitude', 'Cuisines',\n",
       "       'Average Cost for two', 'Currency', 'Price range', 'Aggregate rating',\n",
       "       'Rating color', 'Rating text', 'Votes'],\n",
       "      dtype='object')"
      ]
     },
     "execution_count": 44,
     "metadata": {},
     "output_type": "execute_result"
    }
   ],
   "source": [
    "zomato_data.columns"
   ]
  },
  {
   "cell_type": "code",
   "execution_count": 45,
   "metadata": {},
   "outputs": [],
   "source": [
    "city = zomato_data['City'].fillna(zomato_data['Address'].str.split(';').str[-1].str.strip(), inplace=True)\n"
   ]
  },
  {
   "cell_type": "code",
   "execution_count": 46,
   "metadata": {},
   "outputs": [],
   "source": [
    "zomato_data['City'].fillna(zomato_data['Locality'].str.split(';').str[-1].str.strip(), inplace=True)"
   ]
  },
  {
   "cell_type": "code",
   "execution_count": 47,
   "metadata": {},
   "outputs": [],
   "source": [
    "columns_to_drop = ['Restaurant Name', 'Longitude', 'Latitude']\n",
    "zomato_data.drop(columns=columns_to_drop, inplace=True)"
   ]
  },
  {
   "cell_type": "code",
   "execution_count": 48,
   "metadata": {},
   "outputs": [
    {
     "data": {
      "text/plain": [
       "Restaurant ID              0\n",
       "Country Code            4972\n",
       "City                    1131\n",
       "Address                 4855\n",
       "Locality                4828\n",
       "Locality Verbose        4974\n",
       "Cuisines                4932\n",
       "Average Cost for two    4893\n",
       "Currency                4894\n",
       "Price range             4931\n",
       "Aggregate rating        4861\n",
       "Rating color            4935\n",
       "Rating text             4965\n",
       "Votes                   4918\n",
       "dtype: int64"
      ]
     },
     "execution_count": 48,
     "metadata": {},
     "output_type": "execute_result"
    }
   ],
   "source": [
    "zomato_data.isnull().sum()"
   ]
  },
  {
   "cell_type": "code",
   "execution_count": 49,
   "metadata": {},
   "outputs": [],
   "source": [
    "numerical_columns = ['Country Code', 'Average Cost for two', 'Aggregate rating', 'Votes','Price range']"
   ]
  },
  {
   "cell_type": "code",
   "execution_count": 50,
   "metadata": {},
   "outputs": [],
   "source": [
    "knn_imputer = KNNImputer(n_neighbors=5)\n",
    "zomato_data[numerical_columns] = knn_imputer.fit_transform(zomato_data[numerical_columns])"
   ]
  },
  {
   "cell_type": "code",
   "execution_count": 51,
   "metadata": {},
   "outputs": [],
   "source": [
    "zomato_data['City'].replace('NaN', 'Not Know ', inplace=True)"
   ]
  },
  {
   "cell_type": "code",
   "execution_count": 52,
   "metadata": {},
   "outputs": [],
   "source": [
    "columns_to_drop_2 = ['Rating color','Rating text']\n",
    "zomato_data.drop(columns=columns_to_drop_2, inplace=True)"
   ]
  },
  {
   "cell_type": "code",
   "execution_count": 53,
   "metadata": {},
   "outputs": [
    {
     "data": {
      "text/plain": [
       "Restaurant ID              0\n",
       "Country Code               0\n",
       "City                    1131\n",
       "Address                 4855\n",
       "Locality                4828\n",
       "Locality Verbose        4974\n",
       "Cuisines                4932\n",
       "Average Cost for two       0\n",
       "Currency                4894\n",
       "Price range                0\n",
       "Aggregate rating           0\n",
       "Votes                      0\n",
       "dtype: int64"
      ]
     },
     "execution_count": 53,
     "metadata": {},
     "output_type": "execute_result"
    }
   ],
   "source": [
    "zomato_data.isnull().sum()"
   ]
  },
  {
   "cell_type": "code",
   "execution_count": 54,
   "metadata": {},
   "outputs": [
    {
     "data": {
      "text/plain": [
       "array([162.,  nan,  30., 216.,  14., 184.,  37., 214.,   1.,  94., 148.,\n",
       "       215., 166., 189., 191., 208.])"
      ]
     },
     "execution_count": 54,
     "metadata": {},
     "output_type": "execute_result"
    }
   ],
   "source": [
    "unique_values = df['Country Code'].unique()\n",
    "unique_values"
   ]
  },
  {
   "cell_type": "code",
   "execution_count": null,
   "metadata": {},
   "outputs": [],
   "source": []
  },
  {
   "cell_type": "code",
   "execution_count": 55,
   "metadata": {},
   "outputs": [
    {
     "data": {
      "text/plain": [
       "array(['Botswana Pula(P)', nan, 'Brazilian Real(R$)', 'Dollar($)',\n",
       "       'Emirati Diram(AED)', 'Indian Rupees(Rs.)',\n",
       "       'Indonesian Rupiah(IDR)', 'NewZealand($)', 'Pounds(?)',\n",
       "       'Qatari Rial(QR)', 'Rand(R)', 'Sri Lankan Rupee(LKR)',\n",
       "       'Turkish Lira(TL)'], dtype=object)"
      ]
     },
     "execution_count": 55,
     "metadata": {},
     "output_type": "execute_result"
    }
   ],
   "source": [
    "unique_values = df['Currency'].unique()\n",
    "unique_values"
   ]
  },
  {
   "cell_type": "code",
   "execution_count": 56,
   "metadata": {},
   "outputs": [],
   "source": [
    "currency_mapping = {\n",
    "    162.0: 'Botswana Pula(P)',\n",
    "    30.0: 'Brazilian Real(R$)',\n",
    "    216.0: 'Dollar($)',\n",
    "    214.0:'Emirati Diram(AED)',\n",
    "    1.0:'Indian Rupees(Rs.)',\n",
    "    215.0:'Pounds(?)',\n",
    "    148.0:'NewZealand($)',\n",
    "    191.0:'Sri Lankan Rupee(LKR)',\n",
    "    208.0:'Turkish Lira(TL)',\n",
    "    189.0:'Rand(R)',\n",
    "    166.0:'Qatari Rial(QR)',\n",
    "    94.0:'Indonesian Rupiah(IDR)'\n",
    "    \n",
    "    \n",
    "   \n",
    "}\n",
    "\n",
    "\n",
    "zomato_data['Currency'].fillna(zomato_data['Country Code'].map(currency_mapping), inplace=True)"
   ]
  },
  {
   "cell_type": "code",
   "execution_count": 57,
   "metadata": {},
   "outputs": [
    {
     "data": {
      "text/plain": [
       "Restaurant ID              0\n",
       "Country Code               0\n",
       "City                    1131\n",
       "Address                 4855\n",
       "Locality                4828\n",
       "Locality Verbose        4974\n",
       "Cuisines                4932\n",
       "Average Cost for two       0\n",
       "Currency                 593\n",
       "Price range                0\n",
       "Aggregate rating           0\n",
       "Votes                      0\n",
       "dtype: int64"
      ]
     },
     "execution_count": 57,
     "metadata": {},
     "output_type": "execute_result"
    }
   ],
   "source": [
    "zomato_data.isnull().sum()"
   ]
  },
  {
   "cell_type": "code",
   "execution_count": 58,
   "metadata": {},
   "outputs": [],
   "source": [
    "def mode_impute(code):\n",
    "    if code['Cuisines'].notnull().any():\n",
    "        mode_value = code['Cuisines'].mode().iloc[0]\n",
    "        code['Cuisines'].fillna(mode_value, inplace=True)\n",
    "    return code\n",
    "zomato_data = zomato_data.groupby('Country Code').apply(mode_impute)\n",
    "zomato_data.reset_index(drop=True, inplace=True)"
   ]
  },
  {
   "cell_type": "code",
   "execution_count": 59,
   "metadata": {},
   "outputs": [
    {
     "data": {
      "text/plain": [
       "Restaurant ID              0\n",
       "Country Code               0\n",
       "City                    1131\n",
       "Address                 4855\n",
       "Locality                4828\n",
       "Locality Verbose        4974\n",
       "Cuisines                  51\n",
       "Average Cost for two       0\n",
       "Currency                 593\n",
       "Price range                0\n",
       "Aggregate rating           0\n",
       "Votes                      0\n",
       "dtype: int64"
      ]
     },
     "execution_count": 59,
     "metadata": {},
     "output_type": "execute_result"
    }
   ],
   "source": [
    "zomato_data.isnull().sum()"
   ]
  },
  {
   "cell_type": "code",
   "execution_count": 60,
   "metadata": {},
   "outputs": [],
   "source": [
    "columns_to_drop_3 = ['Address', 'Locality','Locality Verbose']\n",
    "zomato_data.drop(columns=columns_to_drop_3, inplace=True)"
   ]
  },
  {
   "cell_type": "code",
   "execution_count": 61,
   "metadata": {},
   "outputs": [
    {
     "data": {
      "text/plain": [
       "Restaurant ID              0\n",
       "Country Code               0\n",
       "City                    1131\n",
       "Cuisines                  51\n",
       "Average Cost for two       0\n",
       "Currency                 593\n",
       "Price range                0\n",
       "Aggregate rating           0\n",
       "Votes                      0\n",
       "dtype: int64"
      ]
     },
     "execution_count": 61,
     "metadata": {},
     "output_type": "execute_result"
    }
   ],
   "source": [
    "zomato_data.isnull().sum()"
   ]
  },
  {
   "cell_type": "code",
   "execution_count": null,
   "metadata": {},
   "outputs": [],
   "source": []
  },
  {
   "cell_type": "code",
   "execution_count": 62,
   "metadata": {},
   "outputs": [],
   "source": [
    "numerical_column=['Restaurant ID','Country Code','Average Cost for two','Price range','Aggregate rating','Votes']"
   ]
  },
  {
   "cell_type": "code",
   "execution_count": 63,
   "metadata": {},
   "outputs": [],
   "source": [
    "min_max_scaler = MinMaxScaler()\n",
    "zomato_df_min_max_scaled = zomato_data.copy()\n",
    "zomato_df_min_max_scaled[numerical_column] = min_max_scaler.fit_transform(zomato_data[numerical_column])\n"
   ]
  },
  {
   "cell_type": "code",
   "execution_count": 64,
   "metadata": {},
   "outputs": [
    {
     "data": {
      "text/html": [
       "<div>\n",
       "<style scoped>\n",
       "    .dataframe tbody tr th:only-of-type {\n",
       "        vertical-align: middle;\n",
       "    }\n",
       "\n",
       "    .dataframe tbody tr th {\n",
       "        vertical-align: top;\n",
       "    }\n",
       "\n",
       "    .dataframe thead th {\n",
       "        text-align: right;\n",
       "    }\n",
       "</style>\n",
       "<table border=\"1\" class=\"dataframe\">\n",
       "  <thead>\n",
       "    <tr style=\"text-align: right;\">\n",
       "      <th></th>\n",
       "      <th>Restaurant ID</th>\n",
       "      <th>Country Code</th>\n",
       "      <th>City</th>\n",
       "      <th>Cuisines</th>\n",
       "      <th>Average Cost for two</th>\n",
       "      <th>Currency</th>\n",
       "      <th>Price range</th>\n",
       "      <th>Aggregate rating</th>\n",
       "      <th>Votes</th>\n",
       "    </tr>\n",
       "  </thead>\n",
       "  <tbody>\n",
       "    <tr>\n",
       "      <th>0</th>\n",
       "      <td>0.341527</td>\n",
       "      <td>0.0</td>\n",
       "      <td>Mandaluyong City</td>\n",
       "      <td>Japanese; Sushi</td>\n",
       "      <td>0.004320</td>\n",
       "      <td>Botswana Pula(P)</td>\n",
       "      <td>1.000000</td>\n",
       "      <td>1.000000</td>\n",
       "      <td>0.046022</td>\n",
       "    </tr>\n",
       "    <tr>\n",
       "      <th>1</th>\n",
       "      <td>0.341300</td>\n",
       "      <td>0.0</td>\n",
       "      <td>Mandaluyong City</td>\n",
       "      <td>Japanese; Korean</td>\n",
       "      <td>0.003000</td>\n",
       "      <td>Indian Rupees(Rs.)</td>\n",
       "      <td>1.000000</td>\n",
       "      <td>0.771429</td>\n",
       "      <td>0.028874</td>\n",
       "    </tr>\n",
       "    <tr>\n",
       "      <th>2</th>\n",
       "      <td>0.340569</td>\n",
       "      <td>0.0</td>\n",
       "      <td>Pasay City</td>\n",
       "      <td>North Indian</td>\n",
       "      <td>0.004000</td>\n",
       "      <td>Indian Rupees(Rs.)</td>\n",
       "      <td>1.000000</td>\n",
       "      <td>0.657143</td>\n",
       "      <td>0.065566</td>\n",
       "    </tr>\n",
       "    <tr>\n",
       "      <th>3</th>\n",
       "      <td>0.982941</td>\n",
       "      <td>0.0</td>\n",
       "      <td>Santa Rosa</td>\n",
       "      <td>Cafe; American; Italian; Filipino</td>\n",
       "      <td>0.001600</td>\n",
       "      <td>Botswana Pula(P)</td>\n",
       "      <td>0.666667</td>\n",
       "      <td>0.734694</td>\n",
       "      <td>0.048922</td>\n",
       "    </tr>\n",
       "    <tr>\n",
       "      <th>4</th>\n",
       "      <td>0.340970</td>\n",
       "      <td>0.0</td>\n",
       "      <td>Taguig City</td>\n",
       "      <td>Cafe; Bakery; American; Italian</td>\n",
       "      <td>0.003000</td>\n",
       "      <td>Indian Rupees(Rs.)</td>\n",
       "      <td>0.800000</td>\n",
       "      <td>0.897959</td>\n",
       "      <td>0.039743</td>\n",
       "    </tr>\n",
       "    <tr>\n",
       "      <th>...</th>\n",
       "      <td>...</td>\n",
       "      <td>...</td>\n",
       "      <td>...</td>\n",
       "      <td>...</td>\n",
       "      <td>...</td>\n",
       "      <td>...</td>\n",
       "      <td>...</td>\n",
       "      <td>...</td>\n",
       "      <td>...</td>\n",
       "    </tr>\n",
       "    <tr>\n",
       "      <th>9546</th>\n",
       "      <td>0.956582</td>\n",
       "      <td>1.0</td>\n",
       "      <td>IA 50703</td>\n",
       "      <td>Mexican</td>\n",
       "      <td>0.000020</td>\n",
       "      <td>Dollar($)</td>\n",
       "      <td>0.000000</td>\n",
       "      <td>0.755102</td>\n",
       "      <td>0.029555</td>\n",
       "    </tr>\n",
       "    <tr>\n",
       "      <th>9547</th>\n",
       "      <td>0.956402</td>\n",
       "      <td>1.0</td>\n",
       "      <td>Weirton</td>\n",
       "      <td>Mexican</td>\n",
       "      <td>0.000268</td>\n",
       "      <td>Dollar($)</td>\n",
       "      <td>0.333333</td>\n",
       "      <td>0.795918</td>\n",
       "      <td>0.023175</td>\n",
       "    </tr>\n",
       "    <tr>\n",
       "      <th>9548</th>\n",
       "      <td>0.949144</td>\n",
       "      <td>1.0</td>\n",
       "      <td>OR 97467</td>\n",
       "      <td>Mexican</td>\n",
       "      <td>0.000050</td>\n",
       "      <td>Dollar($)</td>\n",
       "      <td>0.333333</td>\n",
       "      <td>0.653061</td>\n",
       "      <td>0.014500</td>\n",
       "    </tr>\n",
       "    <tr>\n",
       "      <th>9549</th>\n",
       "      <td>0.410921</td>\n",
       "      <td>1.0</td>\n",
       "      <td>Edinburgh</td>\n",
       "      <td>Burger; Grill</td>\n",
       "      <td>0.000080</td>\n",
       "      <td>Dollar($)</td>\n",
       "      <td>0.666667</td>\n",
       "      <td>0.828571</td>\n",
       "      <td>0.104779</td>\n",
       "    </tr>\n",
       "    <tr>\n",
       "      <th>9550</th>\n",
       "      <td>0.367609</td>\n",
       "      <td>1.0</td>\n",
       "      <td>Manchester</td>\n",
       "      <td>Italian</td>\n",
       "      <td>0.000050</td>\n",
       "      <td>Pounds(?)</td>\n",
       "      <td>0.333333</td>\n",
       "      <td>0.795918</td>\n",
       "      <td>0.039112</td>\n",
       "    </tr>\n",
       "  </tbody>\n",
       "</table>\n",
       "<p>9551 rows × 9 columns</p>\n",
       "</div>"
      ],
      "text/plain": [
       "      Restaurant ID  Country Code              City  \\\n",
       "0          0.341527           0.0  Mandaluyong City   \n",
       "1          0.341300           0.0  Mandaluyong City   \n",
       "2          0.340569           0.0        Pasay City   \n",
       "3          0.982941           0.0        Santa Rosa   \n",
       "4          0.340970           0.0       Taguig City   \n",
       "...             ...           ...               ...   \n",
       "9546       0.956582           1.0          IA 50703   \n",
       "9547       0.956402           1.0           Weirton   \n",
       "9548       0.949144           1.0          OR 97467   \n",
       "9549       0.410921           1.0         Edinburgh   \n",
       "9550       0.367609           1.0        Manchester   \n",
       "\n",
       "                               Cuisines  Average Cost for two  \\\n",
       "0                       Japanese; Sushi              0.004320   \n",
       "1                      Japanese; Korean              0.003000   \n",
       "2                          North Indian              0.004000   \n",
       "3     Cafe; American; Italian; Filipino              0.001600   \n",
       "4       Cafe; Bakery; American; Italian              0.003000   \n",
       "...                                 ...                   ...   \n",
       "9546                            Mexican              0.000020   \n",
       "9547                            Mexican              0.000268   \n",
       "9548                            Mexican              0.000050   \n",
       "9549                      Burger; Grill              0.000080   \n",
       "9550                            Italian              0.000050   \n",
       "\n",
       "                Currency  Price range  Aggregate rating     Votes  \n",
       "0       Botswana Pula(P)     1.000000          1.000000  0.046022  \n",
       "1     Indian Rupees(Rs.)     1.000000          0.771429  0.028874  \n",
       "2     Indian Rupees(Rs.)     1.000000          0.657143  0.065566  \n",
       "3       Botswana Pula(P)     0.666667          0.734694  0.048922  \n",
       "4     Indian Rupees(Rs.)     0.800000          0.897959  0.039743  \n",
       "...                  ...          ...               ...       ...  \n",
       "9546           Dollar($)     0.000000          0.755102  0.029555  \n",
       "9547           Dollar($)     0.333333          0.795918  0.023175  \n",
       "9548           Dollar($)     0.333333          0.653061  0.014500  \n",
       "9549           Dollar($)     0.666667          0.828571  0.104779  \n",
       "9550           Pounds(?)     0.333333          0.795918  0.039112  \n",
       "\n",
       "[9551 rows x 9 columns]"
      ]
     },
     "execution_count": 64,
     "metadata": {},
     "output_type": "execute_result"
    }
   ],
   "source": [
    "zomato_df_min_max_scaled"
   ]
  },
  {
   "cell_type": "code",
   "execution_count": 65,
   "metadata": {},
   "outputs": [],
   "source": [
    "z_score_scaler = StandardScaler()\n",
    "zomato_df_z_score_scaled = zomato_data.copy()\n",
    "zomato_df_z_score_scaled[numerical_column] = z_score_scaler.fit_transform(zomato_data[numerical_column])"
   ]
  },
  {
   "cell_type": "code",
   "execution_count": 66,
   "metadata": {},
   "outputs": [
    {
     "data": {
      "text/html": [
       "<div>\n",
       "<style scoped>\n",
       "    .dataframe tbody tr th:only-of-type {\n",
       "        vertical-align: middle;\n",
       "    }\n",
       "\n",
       "    .dataframe tbody tr th {\n",
       "        vertical-align: top;\n",
       "    }\n",
       "\n",
       "    .dataframe thead th {\n",
       "        text-align: right;\n",
       "    }\n",
       "</style>\n",
       "<table border=\"1\" class=\"dataframe\">\n",
       "  <thead>\n",
       "    <tr style=\"text-align: right;\">\n",
       "      <th></th>\n",
       "      <th>Restaurant ID</th>\n",
       "      <th>Country Code</th>\n",
       "      <th>City</th>\n",
       "      <th>Cuisines</th>\n",
       "      <th>Average Cost for two</th>\n",
       "      <th>Currency</th>\n",
       "      <th>Price range</th>\n",
       "      <th>Aggregate rating</th>\n",
       "      <th>Votes</th>\n",
       "    </tr>\n",
       "  </thead>\n",
       "  <tbody>\n",
       "    <tr>\n",
       "      <th>0</th>\n",
       "      <td>-0.310841</td>\n",
       "      <td>-0.343327</td>\n",
       "      <td>Mandaluyong City</td>\n",
       "      <td>Japanese; Sushi</td>\n",
       "      <td>0.078023</td>\n",
       "      <td>Botswana Pula(P)</td>\n",
       "      <td>2.920898</td>\n",
       "      <td>1.793895</td>\n",
       "      <td>0.627030</td>\n",
       "    </tr>\n",
       "    <tr>\n",
       "      <th>1</th>\n",
       "      <td>-0.311319</td>\n",
       "      <td>-0.343327</td>\n",
       "      <td>Mandaluyong City</td>\n",
       "      <td>Japanese; Korean</td>\n",
       "      <td>0.019259</td>\n",
       "      <td>Indian Rupees(Rs.)</td>\n",
       "      <td>2.920898</td>\n",
       "      <td>0.948961</td>\n",
       "      <td>0.222920</td>\n",
       "    </tr>\n",
       "    <tr>\n",
       "      <th>2</th>\n",
       "      <td>-0.312857</td>\n",
       "      <td>-0.343327</td>\n",
       "      <td>Pasay City</td>\n",
       "      <td>North Indian</td>\n",
       "      <td>0.063777</td>\n",
       "      <td>Indian Rupees(Rs.)</td>\n",
       "      <td>2.920898</td>\n",
       "      <td>0.526495</td>\n",
       "      <td>1.087596</td>\n",
       "    </tr>\n",
       "    <tr>\n",
       "      <th>3</th>\n",
       "      <td>1.039002</td>\n",
       "      <td>-0.343327</td>\n",
       "      <td>Santa Rosa</td>\n",
       "      <td>Cafe; American; Italian; Filipino</td>\n",
       "      <td>-0.043066</td>\n",
       "      <td>Botswana Pula(P)</td>\n",
       "      <td>1.602575</td>\n",
       "      <td>0.813169</td>\n",
       "      <td>0.695372</td>\n",
       "    </tr>\n",
       "    <tr>\n",
       "      <th>4</th>\n",
       "      <td>-0.312013</td>\n",
       "      <td>-0.343327</td>\n",
       "      <td>Taguig City</td>\n",
       "      <td>Cafe; Bakery; American; Italian</td>\n",
       "      <td>0.019259</td>\n",
       "      <td>Indian Rupees(Rs.)</td>\n",
       "      <td>2.129904</td>\n",
       "      <td>1.416693</td>\n",
       "      <td>0.479054</td>\n",
       "    </tr>\n",
       "    <tr>\n",
       "      <th>...</th>\n",
       "      <td>...</td>\n",
       "      <td>...</td>\n",
       "      <td>...</td>\n",
       "      <td>...</td>\n",
       "      <td>...</td>\n",
       "      <td>...</td>\n",
       "      <td>...</td>\n",
       "      <td>...</td>\n",
       "      <td>...</td>\n",
       "    </tr>\n",
       "    <tr>\n",
       "      <th>9546</th>\n",
       "      <td>0.983529</td>\n",
       "      <td>4.308927</td>\n",
       "      <td>IA 50703</td>\n",
       "      <td>Mexican</td>\n",
       "      <td>-0.113405</td>\n",
       "      <td>Dollar($)</td>\n",
       "      <td>-1.034071</td>\n",
       "      <td>0.888609</td>\n",
       "      <td>0.238966</td>\n",
       "    </tr>\n",
       "    <tr>\n",
       "      <th>9547</th>\n",
       "      <td>0.983150</td>\n",
       "      <td>4.308927</td>\n",
       "      <td>Weirton</td>\n",
       "      <td>Mexican</td>\n",
       "      <td>-0.102364</td>\n",
       "      <td>Dollar($)</td>\n",
       "      <td>0.284252</td>\n",
       "      <td>1.039490</td>\n",
       "      <td>0.088613</td>\n",
       "    </tr>\n",
       "    <tr>\n",
       "      <th>9548</th>\n",
       "      <td>0.967877</td>\n",
       "      <td>4.308927</td>\n",
       "      <td>OR 97467</td>\n",
       "      <td>Mexican</td>\n",
       "      <td>-0.112069</td>\n",
       "      <td>Dollar($)</td>\n",
       "      <td>0.284252</td>\n",
       "      <td>0.511407</td>\n",
       "      <td>-0.115819</td>\n",
       "    </tr>\n",
       "    <tr>\n",
       "      <th>9549</th>\n",
       "      <td>-0.164802</td>\n",
       "      <td>4.308927</td>\n",
       "      <td>Edinburgh</td>\n",
       "      <td>Burger; Grill</td>\n",
       "      <td>-0.110733</td>\n",
       "      <td>Dollar($)</td>\n",
       "      <td>1.602575</td>\n",
       "      <td>1.160195</td>\n",
       "      <td>2.011700</td>\n",
       "    </tr>\n",
       "    <tr>\n",
       "      <th>9550</th>\n",
       "      <td>-0.255952</td>\n",
       "      <td>4.308927</td>\n",
       "      <td>Manchester</td>\n",
       "      <td>Italian</td>\n",
       "      <td>-0.112069</td>\n",
       "      <td>Pounds(?)</td>\n",
       "      <td>0.284252</td>\n",
       "      <td>1.039490</td>\n",
       "      <td>0.464197</td>\n",
       "    </tr>\n",
       "  </tbody>\n",
       "</table>\n",
       "<p>9551 rows × 9 columns</p>\n",
       "</div>"
      ],
      "text/plain": [
       "      Restaurant ID  Country Code              City  \\\n",
       "0         -0.310841     -0.343327  Mandaluyong City   \n",
       "1         -0.311319     -0.343327  Mandaluyong City   \n",
       "2         -0.312857     -0.343327        Pasay City   \n",
       "3          1.039002     -0.343327        Santa Rosa   \n",
       "4         -0.312013     -0.343327       Taguig City   \n",
       "...             ...           ...               ...   \n",
       "9546       0.983529      4.308927          IA 50703   \n",
       "9547       0.983150      4.308927           Weirton   \n",
       "9548       0.967877      4.308927          OR 97467   \n",
       "9549      -0.164802      4.308927         Edinburgh   \n",
       "9550      -0.255952      4.308927        Manchester   \n",
       "\n",
       "                               Cuisines  Average Cost for two  \\\n",
       "0                       Japanese; Sushi              0.078023   \n",
       "1                      Japanese; Korean              0.019259   \n",
       "2                          North Indian              0.063777   \n",
       "3     Cafe; American; Italian; Filipino             -0.043066   \n",
       "4       Cafe; Bakery; American; Italian              0.019259   \n",
       "...                                 ...                   ...   \n",
       "9546                            Mexican             -0.113405   \n",
       "9547                            Mexican             -0.102364   \n",
       "9548                            Mexican             -0.112069   \n",
       "9549                      Burger; Grill             -0.110733   \n",
       "9550                            Italian             -0.112069   \n",
       "\n",
       "                Currency  Price range  Aggregate rating     Votes  \n",
       "0       Botswana Pula(P)     2.920898          1.793895  0.627030  \n",
       "1     Indian Rupees(Rs.)     2.920898          0.948961  0.222920  \n",
       "2     Indian Rupees(Rs.)     2.920898          0.526495  1.087596  \n",
       "3       Botswana Pula(P)     1.602575          0.813169  0.695372  \n",
       "4     Indian Rupees(Rs.)     2.129904          1.416693  0.479054  \n",
       "...                  ...          ...               ...       ...  \n",
       "9546           Dollar($)    -1.034071          0.888609  0.238966  \n",
       "9547           Dollar($)     0.284252          1.039490  0.088613  \n",
       "9548           Dollar($)     0.284252          0.511407 -0.115819  \n",
       "9549           Dollar($)     1.602575          1.160195  2.011700  \n",
       "9550           Pounds(?)     0.284252          1.039490  0.464197  \n",
       "\n",
       "[9551 rows x 9 columns]"
      ]
     },
     "execution_count": 66,
     "metadata": {},
     "output_type": "execute_result"
    }
   ],
   "source": [
    "zomato_df_z_score_scaled \n"
   ]
  },
  {
   "cell_type": "code",
   "execution_count": 69,
   "metadata": {},
   "outputs": [],
   "source": [
    "\n",
    "zomato_data['Average Cost for two'] = pd.to_numeric(zomato_data['Average Cost for two'], errors='coerce')\n",
    "zomato_data['Aggregate rating'] = pd.to_numeric(zomato_data['Aggregate rating'], errors='coerce')\n",
    "zomato_data['cost_label'] = pd.cut(zomato_data['Average Cost for two'], bins=[0, 500, 1000, float('inf')], labels=['Low', 'Medium', 'High'], right=False)\n",
    "zomato_data['rating_label'] = pd.cut(zomato_data['Aggregate rating'], bins=[0, 3, 4, float('inf')], labels=['Poor', 'Average', 'Good'], right=False)\n",
    "\n",
    "\n",
    "cost_encoder = LabelEncoder()\n",
    "rating_encoder = LabelEncoder()\n",
    "zomato_data['cost_label_encoded'] = cost_encoder.fit_transform(zomato_data['cost_label'].astype(str).dropna())\n",
    "zomato_data['rating_label_encoded'] = rating_encoder.fit_transform(zomato_data['rating_label'].astype(str).dropna())\n",
    "zomato_data['cost_label_encoded'].fillna(-1, inplace=True)\n",
    "zomato_data['rating_label_encoded'].fillna(-1, inplace=True)\n",
    "\n",
    "knn_imputer = KNNImputer(n_neighbors=3)\n",
    "imputed_data = knn_imputer.fit_transform(zomato_data[['cost_label_encoded', 'rating_label_encoded']])\n",
    "imputed_data = pd.DataFrame(imputed_data, columns=['cost_label_encoded', 'rating_label_encoded']).round().astype(int)\n",
    "zomato_data['cost_label_imputed'] = cost_encoder.inverse_transform(imputed_data['cost_label_encoded'])\n",
    "zomato_data['rating_label_imputed'] = rating_encoder.inverse_transform(imputed_data['rating_label_encoded'])\n",
    "#zomato_df.drop(['cost_label_encoded', 'rating_label_encoded'], axis=1, inplace=True)\n",
    "def compute_combined_rating(cost_label, rating_label):\n",
    "    if cost_label == 'High' and rating_label == 'Good':\n",
    "        return 'Premium'\n",
    "    elif cost_label == 'Low' and rating_label == 'Poor':\n",
    "        return 'Budget'\n",
    "    else:\n",
    "        return 'Standard'\n",
    "\n",
    "zomato_data['combined_rating'] = zomato_data.apply(lambda x: compute_combined_rating(x['cost_label_imputed'], x['rating_label_imputed']), axis=1)\n"
   ]
  },
  {
   "cell_type": "code",
   "execution_count": 70,
   "metadata": {},
   "outputs": [
    {
     "data": {
      "text/plain": [
       "0        Premium\n",
       "1       Standard\n",
       "2       Standard\n",
       "3       Standard\n",
       "4        Premium\n",
       "          ...   \n",
       "9546    Standard\n",
       "9547    Standard\n",
       "9548    Standard\n",
       "9549    Standard\n",
       "9550    Standard\n",
       "Name: combined_rating, Length: 9551, dtype: object"
      ]
     },
     "execution_count": 70,
     "metadata": {},
     "output_type": "execute_result"
    }
   ],
   "source": [
    "zomato_data['combined_rating']"
   ]
  },
  {
   "cell_type": "code",
   "execution_count": 78,
   "metadata": {},
   "outputs": [],
   "source": [
    "from sklearn.model_selection import train_test_split\n",
    "from sklearn.neighbors import KNeighborsClassifier\n",
    "from sklearn.metrics import accuracy_score, classification_report\n",
    "from sklearn.metrics import confusion_matrix\n",
    "\n"
   ]
  },
  {
   "cell_type": "code",
   "execution_count": 72,
   "metadata": {},
   "outputs": [],
   "source": [
    "X = zomato_data[['cost_label_encoded', 'rating_label_encoded']]\n",
    "y = zomato_data['combined_rating']\n",
    "\n",
    "X_train, X_test, y_train, y_test = train_test_split(X, y, test_size=0.2, random_state=42)\n",
    "\n"
   ]
  },
  {
   "cell_type": "code",
   "execution_count": 73,
   "metadata": {},
   "outputs": [
    {
     "data": {
      "text/html": [
       "<style>#sk-container-id-1 {color: black;}#sk-container-id-1 pre{padding: 0;}#sk-container-id-1 div.sk-toggleable {background-color: white;}#sk-container-id-1 label.sk-toggleable__label {cursor: pointer;display: block;width: 100%;margin-bottom: 0;padding: 0.3em;box-sizing: border-box;text-align: center;}#sk-container-id-1 label.sk-toggleable__label-arrow:before {content: \"▸\";float: left;margin-right: 0.25em;color: #696969;}#sk-container-id-1 label.sk-toggleable__label-arrow:hover:before {color: black;}#sk-container-id-1 div.sk-estimator:hover label.sk-toggleable__label-arrow:before {color: black;}#sk-container-id-1 div.sk-toggleable__content {max-height: 0;max-width: 0;overflow: hidden;text-align: left;background-color: #f0f8ff;}#sk-container-id-1 div.sk-toggleable__content pre {margin: 0.2em;color: black;border-radius: 0.25em;background-color: #f0f8ff;}#sk-container-id-1 input.sk-toggleable__control:checked~div.sk-toggleable__content {max-height: 200px;max-width: 100%;overflow: auto;}#sk-container-id-1 input.sk-toggleable__control:checked~label.sk-toggleable__label-arrow:before {content: \"▾\";}#sk-container-id-1 div.sk-estimator input.sk-toggleable__control:checked~label.sk-toggleable__label {background-color: #d4ebff;}#sk-container-id-1 div.sk-label input.sk-toggleable__control:checked~label.sk-toggleable__label {background-color: #d4ebff;}#sk-container-id-1 input.sk-hidden--visually {border: 0;clip: rect(1px 1px 1px 1px);clip: rect(1px, 1px, 1px, 1px);height: 1px;margin: -1px;overflow: hidden;padding: 0;position: absolute;width: 1px;}#sk-container-id-1 div.sk-estimator {font-family: monospace;background-color: #f0f8ff;border: 1px dotted black;border-radius: 0.25em;box-sizing: border-box;margin-bottom: 0.5em;}#sk-container-id-1 div.sk-estimator:hover {background-color: #d4ebff;}#sk-container-id-1 div.sk-parallel-item::after {content: \"\";width: 100%;border-bottom: 1px solid gray;flex-grow: 1;}#sk-container-id-1 div.sk-label:hover label.sk-toggleable__label {background-color: #d4ebff;}#sk-container-id-1 div.sk-serial::before {content: \"\";position: absolute;border-left: 1px solid gray;box-sizing: border-box;top: 0;bottom: 0;left: 50%;z-index: 0;}#sk-container-id-1 div.sk-serial {display: flex;flex-direction: column;align-items: center;background-color: white;padding-right: 0.2em;padding-left: 0.2em;position: relative;}#sk-container-id-1 div.sk-item {position: relative;z-index: 1;}#sk-container-id-1 div.sk-parallel {display: flex;align-items: stretch;justify-content: center;background-color: white;position: relative;}#sk-container-id-1 div.sk-item::before, #sk-container-id-1 div.sk-parallel-item::before {content: \"\";position: absolute;border-left: 1px solid gray;box-sizing: border-box;top: 0;bottom: 0;left: 50%;z-index: -1;}#sk-container-id-1 div.sk-parallel-item {display: flex;flex-direction: column;z-index: 1;position: relative;background-color: white;}#sk-container-id-1 div.sk-parallel-item:first-child::after {align-self: flex-end;width: 50%;}#sk-container-id-1 div.sk-parallel-item:last-child::after {align-self: flex-start;width: 50%;}#sk-container-id-1 div.sk-parallel-item:only-child::after {width: 0;}#sk-container-id-1 div.sk-dashed-wrapped {border: 1px dashed gray;margin: 0 0.4em 0.5em 0.4em;box-sizing: border-box;padding-bottom: 0.4em;background-color: white;}#sk-container-id-1 div.sk-label label {font-family: monospace;font-weight: bold;display: inline-block;line-height: 1.2em;}#sk-container-id-1 div.sk-label-container {text-align: center;}#sk-container-id-1 div.sk-container {/* jupyter's `normalize.less` sets `[hidden] { display: none; }` but bootstrap.min.css set `[hidden] { display: none !important; }` so we also need the `!important` here to be able to override the default hidden behavior on the sphinx rendered scikit-learn.org. See: https://github.com/scikit-learn/scikit-learn/issues/21755 */display: inline-block !important;position: relative;}#sk-container-id-1 div.sk-text-repr-fallback {display: none;}</style><div id=\"sk-container-id-1\" class=\"sk-top-container\"><div class=\"sk-text-repr-fallback\"><pre>KNeighborsClassifier()</pre><b>In a Jupyter environment, please rerun this cell to show the HTML representation or trust the notebook. <br />On GitHub, the HTML representation is unable to render, please try loading this page with nbviewer.org.</b></div><div class=\"sk-container\" hidden><div class=\"sk-item\"><div class=\"sk-estimator sk-toggleable\"><input class=\"sk-toggleable__control sk-hidden--visually\" id=\"sk-estimator-id-1\" type=\"checkbox\" checked><label for=\"sk-estimator-id-1\" class=\"sk-toggleable__label sk-toggleable__label-arrow\">KNeighborsClassifier</label><div class=\"sk-toggleable__content\"><pre>KNeighborsClassifier()</pre></div></div></div></div></div>"
      ],
      "text/plain": [
       "KNeighborsClassifier()"
      ]
     },
     "execution_count": 73,
     "metadata": {},
     "output_type": "execute_result"
    }
   ],
   "source": [
    "k = 5  \n",
    "knn_classifier = KNeighborsClassifier(n_neighbors=k)\n",
    "knn_classifier.fit(X_train, y_train)\n"
   ]
  },
  {
   "cell_type": "code",
   "execution_count": 74,
   "metadata": {},
   "outputs": [],
   "source": [
    "y_pred = knn_classifier.predict(X_test)\n"
   ]
  },
  {
   "cell_type": "code",
   "execution_count": 76,
   "metadata": {},
   "outputs": [],
   "source": [
    "accuracy = accuracy_score(y_test, y_pred)\n",
    "classification_rep = classification_report(y_test, y_pred)\n",
    "\n",
    "\n"
   ]
  },
  {
   "cell_type": "code",
   "execution_count": 77,
   "metadata": {},
   "outputs": [
    {
     "name": "stdout",
     "output_type": "stream",
     "text": [
      "Accuracy: 1.0\n",
      "\n",
      "Classification Report:\n",
      "               precision    recall  f1-score   support\n",
      "\n",
      "      Budget       1.00      1.00      1.00       623\n",
      "     Premium       1.00      1.00      1.00        72\n",
      "    Standard       1.00      1.00      1.00      1216\n",
      "\n",
      "    accuracy                           1.00      1911\n",
      "   macro avg       1.00      1.00      1.00      1911\n",
      "weighted avg       1.00      1.00      1.00      1911\n",
      "\n"
     ]
    }
   ],
   "source": [
    "print(\"Accuracy:\", accuracy)\n",
    "print(\"\\nClassification Report:\\n\", classification_rep)"
   ]
  },
  {
   "cell_type": "code",
   "execution_count": 79,
   "metadata": {},
   "outputs": [
    {
     "name": "stdout",
     "output_type": "stream",
     "text": [
      "Confusion Matrix:\n",
      "[[ 623    0    0]\n",
      " [   0   72    0]\n",
      " [   0    0 1216]]\n"
     ]
    }
   ],
   "source": [
    "confusion = confusion_matrix(y_test, y_pred)\n",
    "print(\"Confusion Matrix:\")\n",
    "print(confusion)\n"
   ]
  }
 ],
 "metadata": {
  "kernelspec": {
   "display_name": "Python 3",
   "language": "python",
   "name": "python3"
  },
  "language_info": {
   "codemirror_mode": {
    "name": "ipython",
    "version": 3
   },
   "file_extension": ".py",
   "mimetype": "text/x-python",
   "name": "python",
   "nbconvert_exporter": "python",
   "pygments_lexer": "ipython3",
   "version": "3.10.7"
  },
  "orig_nbformat": 4
 },
 "nbformat": 4,
 "nbformat_minor": 2
}
